{
 "cells": [
  {
   "cell_type": "markdown",
   "metadata": {},
   "source": [
    "# Ejercicios de API's\n",
    "\n",
    " **Enunciado - Obtener datos energéticos usando la API de Red Eléctrica.**\n",
    "\n",
    " **Descripción:** La empresa para la que trabajamos dispone de una base de datos que contiene información sobre el número de personas censadas en las distintas Comunidades Autónomas españolas desde 1998 hasta 2022. El objetivo es enriquecer estos datos con información sobre la generación de energía renovable y no renovable, utilizando la API de REData, la cual proporciona información sobre el mercado energético en España. Puedes encontrar la documentación de la API aquí (https://www.ree.es/es/apidatos).\n",
    "\n",
    " 1. Extracción de Datos a Nivel Nacional:\n",
    "\n",
    "- Extraer datos de generación de energía renovable y no renovable a nivel nacional desde el 1 de enero de 2011 hasta el 31 de diciembre de 2022. La información debe ser recopilada a nivel mensual.\n",
    "\n",
    "- Transformar los datos para incluir una columna nueva que identifique si la energía es renovable o no renovable.\n",
    "\n",
    "- Almacenar los datos en un DataFrame con la siguiente estructura: \n",
    "(https://books.adalab.es/materiales-promo-i-data-analytics/modulo-2-domina-el-arte-de-extraer-informacion-valiosa/modulo-2/modulo-2-leccion-01-apis/modulo-2-leccion-01-apis)\n",
    "\n",
    "\n",
    "2. Extracción de Datos por Comunidad Autónoma:\n",
    "\n",
    "- Extraer datos de generación de energía renovable y no renovable por Comunidad Autónoma.\n",
    "\n",
    "- Utilizar el diccionario cod_comunidades para obtener los códigos de cada comunidad autónoma.\n",
    "\n",
    "- Transformar los datos para incluir una columna que especifique la comunidad autónoma y su identificador.\n",
    "\n",
    "Almacenar los datos en un DataFrame con la siguiente estructura:\n",
    "(https://books.adalab.es/materiales-promo-i-data-analytics/modulo-2-domina-el-arte-de-extraer-informacion-valiosa/modulo-2/modulo-2-leccion-01-apis/modulo-2-leccion-01-apis)\n",
    "\n",
    "- El diccionario de `cod_comunidades` es:\n",
    "\n",
    "cod_comunidades = {'Ceuta': 8744,\n",
    "                    'Melilla': 8745,\n",
    "                    'Andalucía': 4,\n",
    "                    'Aragón': 5,\n",
    "                    'Cantabria': 6,\n",
    "                    'Castilla - La Mancha': 7,\n",
    "                    'Castilla y León': 8,\n",
    "                    'Cataluña': 9,\n",
    "                    'País Vasco': 10,\n",
    "                    'Principado de Asturias': 11,\n",
    "                    'Comunidad de Madrid': 13,\n",
    "                    'Comunidad Foral de Navarra': 14,\n",
    "                    'Comunitat Valenciana': 15,\n",
    "                    'Extremadura': 16,\n",
    "                    'Galicia': 17,\n",
    "                    'Illes Balears': 8743,\n",
    "                    'Canarias': 8742,\n",
    "                    'Región de Murcia': 21,\n",
    "                    'La Rioja': 20}"
   ]
  },
  {
   "cell_type": "code",
   "execution_count": null,
   "metadata": {},
   "outputs": [],
   "source": []
  }
 ],
 "metadata": {
  "language_info": {
   "name": "python"
  }
 },
 "nbformat": 4,
 "nbformat_minor": 2
}
